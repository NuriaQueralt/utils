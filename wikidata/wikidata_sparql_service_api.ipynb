{
 "cells": [
  {
   "cell_type": "code",
   "execution_count": 1,
   "metadata": {
    "collapsed": true
   },
   "outputs": [],
   "source": [
    "from SPARQLWrapper import SPARQLWrapper, JSON"
   ]
  },
  {
   "cell_type": "code",
   "execution_count": 2,
   "metadata": {
    "collapsed": true
   },
   "outputs": [],
   "source": [
    "def execute_query(query):\n",
    "    endpoint = SPARQLWrapper('https://query.wikidata.org/sparql')\n",
    "    endpoint.setQuery(query)\n",
    "    endpoint.setReturnFormat(JSON)\n",
    "    return endpoint.query().convert()"
   ]
  },
  {
   "cell_type": "code",
   "execution_count": 3,
   "metadata": {
    "collapsed": true
   },
   "outputs": [],
   "source": [
    "# get doid: \n",
    "query = \"\"\"SELECT DISTINCT ?item ?doid ?itemLabel (group_concat(distinct ?itemaltLabel; separator=\"|\") as ?altLabel) ?itemDesc\n",
    "WHERE\n",
    "{\n",
    "  {?item wdt:P31 wd:Q12136 }\n",
    "  UNION\n",
    "  {?item wdt:P279 wd:Q12136 .}\n",
    "  ?item wdt:P699 ?doid .\n",
    "  values ?doid {\"DOID:0060728\"}\n",
    "  OPTIONAL{\n",
    "  ?item skos:altLabel ?itemaltLabel .\n",
    "    FILTER(LANG(?itemaltLabel) = \"en\")\n",
    "  ?item schema:description ?itemDesc .\n",
    "    FILTER(LANG(?itemDesc) = \"en\")\n",
    "  }\n",
    "  SERVICE wikibase:label { bd:serviceParam wikibase:language \"en\" }\n",
    "}\n",
    "group by ?item ?doid ?itemLabel ?itemDesc\"\"\""
   ]
  },
  {
   "cell_type": "code",
   "execution_count": 4,
   "metadata": {},
   "outputs": [
    {
     "data": {
      "text/plain": [
       "{'head': {'vars': ['item', 'doid', 'itemLabel', 'altLabel', 'itemDesc']},\n",
       " 'results': {'bindings': [{'altLabel': {'type': 'literal',\n",
       "     'value': 'Alacrimia-choreoathetosis-liver dysfunction syndrome|congenital disorder of deglycosylation|congenital disorder of glycosylation type Iv|deficiency of N-glycanase 1|NGLY1-CDDG'},\n",
       "    'doid': {'type': 'literal', 'value': 'DOID:0060728'},\n",
       "    'item': {'type': 'uri',\n",
       "     'value': 'http://www.wikidata.org/entity/Q28024539'},\n",
       "    'itemDesc': {'type': 'literal',\n",
       "     'value': 'Human disease',\n",
       "     'xml:lang': 'en'},\n",
       "    'itemLabel': {'type': 'literal',\n",
       "     'value': 'NGLY1-deficiency',\n",
       "     'xml:lang': 'en'}}]}}"
      ]
     },
     "execution_count": 4,
     "metadata": {},
     "output_type": "execute_result"
    }
   ],
   "source": [
    "r = execute_query(query)\n",
    "r"
   ]
  }
 ],
 "metadata": {
  "kernelspec": {
   "display_name": "Python 3",
   "language": "python",
   "name": "python3"
  },
  "language_info": {
   "codemirror_mode": {
    "name": "ipython",
    "version": 3
   },
   "file_extension": ".py",
   "mimetype": "text/x-python",
   "name": "python",
   "nbconvert_exporter": "python",
   "pygments_lexer": "ipython3",
   "version": "3.5.3"
  }
 },
 "nbformat": 4,
 "nbformat_minor": 2
}
